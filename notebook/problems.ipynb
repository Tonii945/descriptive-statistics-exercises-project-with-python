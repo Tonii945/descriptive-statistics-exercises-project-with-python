{
    "cells": [
        {
            "cell_type": "markdown",
            "id": "ac622319",
            "metadata": {},
            "source": [
                "# Descriptive statistics problems"
            ]
        },
        {
            "cell_type": "markdown",
            "id": "5e0ab0d5",
            "metadata": {},
            "source": [
                "### Exercise 1\n",
                "\n",
                "We will use NumPy to obtain information to describe statistically.\n",
                "\n",
                "- Generate an array of 100 elements following a normal distribution.\n",
                "- Generate an array of 100 elements following a chi-square distribution with 3 degrees of freedom.\n",
                "- Calculate the main metrics and statistical measures that best describe the two vectors."
            ]
        },
        {
            "cell_type": "code",
            "execution_count": null,
            "id": "34720ab6",
            "metadata": {},
            "outputs": [
                {
                    "name": "stdout",
                    "output_type": "stream",
                    "text": [
                        "[ 2.36891543e+00 -1.77510746e+00 -1.71992368e+00 -1.64787884e+00\n",
                        "  2.06907269e-01 -9.98357973e-01  4.48512320e-02  5.33856501e-01\n",
                        " -1.24969053e-01  9.29593767e-01 -8.98542288e-01  1.42963123e+00\n",
                        "  1.45684145e+00 -3.92431789e-02  1.05728753e+00  3.54241365e-01\n",
                        " -5.28176896e-01 -2.26949157e-01  5.64640991e-01  3.30842781e-01\n",
                        " -3.61186525e-01 -3.38346556e-01 -1.89927314e+00  8.26530761e-01\n",
                        "  9.15108973e-01 -6.22629790e-01  1.66361608e+00 -4.54951292e-01\n",
                        " -1.03280412e+00 -1.23925084e+00  2.72238606e-02 -2.74671012e-01\n",
                        "  1.05029268e+00  4.95130968e-01 -2.07536890e-01  3.84832204e-01\n",
                        "  1.54575134e-01 -2.11725772e-03  9.80887859e-01  9.01847732e-01\n",
                        "  7.20183969e-01  6.43876669e-01  6.41439510e-01 -4.41866948e-01\n",
                        " -1.75782490e+00  1.24416148e+00 -1.07747565e+00  1.44436137e+00\n",
                        " -6.70273209e-01  1.07775326e+00 -1.09699919e+00 -4.93287450e-01\n",
                        " -1.75430859e+00  8.09910595e-01 -7.79489183e-01 -3.92968627e-01\n",
                        " -1.01731147e+00  1.50652544e+00  1.57728694e+00 -3.57553689e-01\n",
                        "  8.82972435e-01 -4.81616874e-01 -1.61148966e+00  1.04164577e+00\n",
                        " -2.56224213e-01  2.60916206e+00 -1.83308170e+00  1.44053981e+00\n",
                        "  7.30745039e-01  1.89207993e+00  1.88503238e+00  7.77914357e-01\n",
                        " -1.04416032e+00  3.18446317e-01  6.79783662e-02 -5.74404748e-01\n",
                        " -9.22157687e-01 -1.78582244e-01  5.15787473e-01  8.02629829e-03\n",
                        " -5.26588399e-01  1.19825002e+00 -1.16593548e+00  1.04626039e-01\n",
                        " -4.07616998e-01 -9.15220961e-01 -1.45392522e+00 -2.99752732e-02\n",
                        "  1.62534774e+00 -2.17546061e-01  1.57443339e+00 -2.73367198e-01\n",
                        " -9.21071025e-01 -1.28279509e+00  1.86794037e+00 -1.48831969e+00\n",
                        "  2.14417821e+00  5.42650127e-01 -1.69343023e-01 -9.40614427e-01]\n",
                        "[ 0.7150296   0.30742147  5.72020068  1.93666695  0.77139912  0.76846597\n",
                        "  4.37730634  2.27506629  6.29820473  1.46537095  1.62903197  1.76260162\n",
                        "  1.96082172  0.41127418  2.72118431  4.53956484  8.59078106  0.65617185\n",
                        "  1.2544215   0.24117795  3.22655243  5.01996701  0.39257255  2.19048236\n",
                        "  3.97822952  3.03439304  0.27386495  4.2440481   1.20329137  0.93801842\n",
                        "  0.13312505  2.70086523  1.93246923  3.57253892  4.2843391   0.76215933\n",
                        "  1.19910998  0.65447604  2.14521883  6.73063564  5.16680538  3.59809254\n",
                        "  1.96632918  1.46666945 11.03376484  1.08325671  1.59358269  4.18635304\n",
                        "  2.34609877  8.60635665  6.04984956  1.27334638  2.00576982  0.43909642\n",
                        "  0.10309982  0.07438682  1.35773463  2.93081381  0.72625962  0.06167008\n",
                        "  0.18032899  1.11932809  0.17794809  0.16957163  0.25029292  5.35819401\n",
                        "  1.41408397  7.73270807  4.40124003  9.48055215  7.28129405  0.46513146\n",
                        "  1.02122413  6.54762198  2.13321934  4.53332545  2.80548477  3.89641524\n",
                        "  3.02690353  2.51399951  0.84446784  5.19056547  6.00115198  0.37973855\n",
                        "  0.21719697  0.91825915  1.15091848  1.61836891  0.25698582  2.98186441\n",
                        "  1.85314891  0.61982618  4.35943886  1.88263755  2.62348671  1.18224417\n",
                        "  3.34447211  3.05258513  0.62883635  4.02006963]\n",
                        "Normal mean : 0.06645600012241719\n",
                        "Chi mean : 2.6072298698181977\n",
                        "Normal median : -0.016046265446598856\n",
                        "Chi median : 1.9345680876449673\n",
                        "Normal mode : 2.368915426518745\n",
                        "Chi mode : 0.7150295998774819\n"
                    ]
                }
            ],
            "source": [
                "import numpy as np\n",
                "import statistics as stats\n",
                "\n",
                "normal = np.random.normal(size = 100)\n",
                "chi = np.random.chisquare(3 , 100)\n",
                "print(normal)\n",
                "print(chi)\n"
            ]
        },
        {
            "cell_type": "code",
            "execution_count": 5,
            "id": "c4c03ba2",
            "metadata": {},
            "outputs": [
                {
                    "name": "stdout",
                    "output_type": "stream",
                    "text": [
                        "Normal mean : 0.06645600012241719\n",
                        "Chi mean : 2.6072298698181977\n",
                        "Normal median : -0.016046265446598856\n",
                        "Chi median : 1.9345680876449673\n",
                        "Normal mode : 2.368915426518745\n",
                        "Chi mode : 0.7150295998774819\n"
                    ]
                }
            ],
            "source": [
                "#MEAN\n",
                "print(f\"Normal mean : {stats.mean(normal)}\")\n",
                "print(f\"Chi mean : {stats.mean(chi)}\")\n",
                "#MEDIAN\n",
                "print(f\"Normal median : {stats.median(normal)}\")\n",
                "print(f\"Chi median : {stats.median(chi)}\")\n",
                "#MODE\n",
                "print(f\"Normal mode : {stats.mode(normal)}\")\n",
                "print(f\"Chi mode : {stats.mode(chi)}\")"
            ]
        },
        {
            "cell_type": "code",
            "execution_count": 7,
            "id": "99a45ccc",
            "metadata": {},
            "outputs": [
                {
                    "name": "stdout",
                    "output_type": "stream",
                    "text": [
                        "Normal range: 4.508435196252175\n",
                        "Chi range: 10.97209476084764\n",
                        "Normal variance: 1.153804900780415\n",
                        "Normal standard deviation: 1.0741531086304295\n",
                        "Chi variance: 5.572972927985011\n",
                        "Chi standard deviation: 2.360714495229148\n"
                    ]
                }
            ],
            "source": [
                "#RANGE\n",
                "\n",
                "normal_range = max(normal) - min(normal)\n",
                "print(f\"Normal range: {normal_range}\")\n",
                "\n",
                "chi_range = max(chi) - min(chi)\n",
                "print(f\"Chi range: {chi_range}\")\n",
                "\n",
                "#VARIANCE AND STANDARD DEVIATION\n",
                "normal_variance = stats.variance(normal)\n",
                "normal_std = stats.stdev(normal)\n",
                "print(f\"Normal variance: {normal_variance}\")\n",
                "print(f\"Normal standard deviation: {normal_std}\")\n",
                "chi_variance = stats.variance(chi)\n",
                "chi_std = stats.stdev(chi)\n",
                "print(f\"Chi variance: {chi_variance}\")\n",
                "print(f\"Chi standard deviation: {chi_std}\")"
            ]
        },
        {
            "cell_type": "code",
            "execution_count": 9,
            "id": "b2136635",
            "metadata": {},
            "outputs": [
                {
                    "name": "stdout",
                    "output_type": "stream",
                    "text": [
                        "Normal skewness: 0.14898693725423218\n",
                        "Chi skewness: 1.2735658832659436\n",
                        "Normal kurtosis: -0.7131436272744449\n",
                        "Chi kurtosis: 1.3139157815985651\n"
                    ]
                }
            ],
            "source": [
                "#SKEWNESS\n",
                "from scipy.stats import skew\n",
                "\n",
                "normal_skewness = skew(normal)\n",
                "chi_skewness = skew(chi)\n",
                "print(f\"Normal skewness: {normal_skewness}\")\n",
                "print(f\"Chi skewness: {chi_skewness}\")\n",
                "\n",
                "#KURTOSIS\n",
                "\n",
                "from scipy.stats import kurtosis\n",
                "\n",
                "normal_kurt = kurtosis(normal)\n",
                "chi_kurt = kurtosis(chi)\n",
                "print(f\"Normal kurtosis: {normal_kurt}\")\n",
                "print(f\"Chi kurtosis: {chi_kurt}\")"
            ]
        },
        {
            "cell_type": "markdown",
            "id": "46c70c3d",
            "metadata": {},
            "source": [
                "### Exercise 2\n",
                "\n",
                "Write a Python program to calculate the standard deviation of the following data:\n",
                "\n",
                "```py\n",
                "data = [4, 2, 5, 8, 6]\n",
                "```"
            ]
        },
        {
            "cell_type": "code",
            "execution_count": 11,
            "id": "d590308e",
            "metadata": {},
            "outputs": [
                {
                    "name": "stdout",
                    "output_type": "stream",
                    "text": [
                        "La desviación estandar de los datos es:2.23606797749979\n"
                    ]
                }
            ],
            "source": [
                "data = [4, 2, 5, 8, 6]\n",
                "\n",
                "print(f\"La desviación estandar de los datos es:{stats.stdev(data)}\")"
            ]
        }
    ],
    "metadata": {
        "kernelspec": {
            "display_name": "Python 3",
            "language": "python",
            "name": "python3"
        },
        "language_info": {
            "codemirror_mode": {
                "name": "ipython",
                "version": 3
            },
            "file_extension": ".py",
            "mimetype": "text/x-python",
            "name": "python",
            "nbconvert_exporter": "python",
            "pygments_lexer": "ipython3",
            "version": "3.8.3"
        }
    },
    "nbformat": 4,
    "nbformat_minor": 5
}
